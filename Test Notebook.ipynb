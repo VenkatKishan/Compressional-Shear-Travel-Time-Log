{
 "cells": [
  {
   "cell_type": "code",
   "execution_count": 72,
   "id": "e92f2284",
   "metadata": {},
   "outputs": [],
   "source": [
    "import numpy as np\n",
    "import pandas as pd\n",
    "import matplotlib.pyplot as plt\n",
    "import seaborn as sns\n",
    "from sklearn.pipeline import Pipeline\n",
    "from sklearn.preprocessing import FunctionTransformer\n",
    "from sklearn.ensemble import IsolationForest\n",
    "from sklearn.metrics import mean_absolute_error\n",
    "from sklearn.metrics import mean_squared_error"
   ]
  },
  {
   "cell_type": "code",
   "execution_count": 23,
   "id": "d5fd9ef8",
   "metadata": {},
   "outputs": [],
   "source": [
    "import pickle"
   ]
  },
  {
   "cell_type": "code",
   "execution_count": 79,
   "id": "9430916b",
   "metadata": {},
   "outputs": [],
   "source": [
    "data_set2=pd.read_csv('Well_2.csv')"
   ]
  },
  {
   "cell_type": "markdown",
   "id": "b3baf204",
   "metadata": {},
   "source": [
    "## Loading Model"
   ]
  },
  {
   "cell_type": "code",
   "execution_count": 63,
   "id": "9ebdbba0",
   "metadata": {},
   "outputs": [],
   "source": [
    "final_model_deploy = pickle.load( open( 'final_model_deploy.sav', \"rb\" ) )"
   ]
  },
  {
   "cell_type": "code",
   "execution_count": 80,
   "id": "84dd32d8",
   "metadata": {},
   "outputs": [],
   "source": [
    "final_predictions = final_model_deploy.predict(data_set2)"
   ]
  },
  {
   "cell_type": "code",
   "execution_count": 81,
   "id": "c16393a8",
   "metadata": {},
   "outputs": [
    {
     "data": {
      "text/plain": [
       "array([[ 99.72292308, 215.17041538],\n",
       "       [101.29242308, 218.89523077],\n",
       "       [101.29242308, 218.89523077],\n",
       "       ...,\n",
       "       [ 87.85516154, 185.83275385],\n",
       "       [ 86.923     , 183.10881538],\n",
       "       [ 86.923     , 183.10881538]])"
      ]
     },
     "execution_count": 81,
     "metadata": {},
     "output_type": "execute_result"
    }
   ],
   "source": [
    "final_predictions"
   ]
  },
  {
   "cell_type": "code",
   "execution_count": 83,
   "id": "68b16f65",
   "metadata": {},
   "outputs": [
    {
     "data": {
      "text/plain": [
       "(11088, 7)"
      ]
     },
     "execution_count": 83,
     "metadata": {},
     "output_type": "execute_result"
    }
   ],
   "source": [
    "data_set2.shape"
   ]
  },
  {
   "cell_type": "code",
   "execution_count": 84,
   "id": "9ae8e5de",
   "metadata": {},
   "outputs": [],
   "source": [
    "final_prediction_csv = pd.DataFrame(final_predictions, columns=[['predictions_DTC','predictions_DTS']]).to_csv('final_project_prediction.csv')"
   ]
  }
 ],
 "metadata": {
  "kernelspec": {
   "display_name": "Python 3 (ipykernel)",
   "language": "python",
   "name": "python3"
  },
  "language_info": {
   "codemirror_mode": {
    "name": "ipython",
    "version": 3
   },
   "file_extension": ".py",
   "mimetype": "text/x-python",
   "name": "python",
   "nbconvert_exporter": "python",
   "pygments_lexer": "ipython3",
   "version": "3.10.4"
  }
 },
 "nbformat": 4,
 "nbformat_minor": 5
}
